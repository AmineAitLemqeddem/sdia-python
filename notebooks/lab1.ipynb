{
 "cells": [
  {
   "cell_type": "markdown",
   "source": [
    "# Practical session 1 - Some Python basics\r\n",
    "\r\n",
    "Course: [SDIA-Python](https://github.com/guilgautier/sdia-python)\r\n",
    "\r\n",
    "Dates: 09/21/2021-09/22/2021\r\n",
    "\r\n",
    "Instructor: [Guillaume Gautier](https://guilgautier.github.io/)\r\n",
    "\r\n",
    "Students (pair):\r\n",
    "- [Student 1]([link](https://github.com/username1))\r\n",
    "- [Student 2]([link](https://github.com/username2))"
   ],
   "metadata": {}
  },
  {
   "cell_type": "code",
   "execution_count": 1,
   "source": [
    "%load_ext autoreload\r\n",
    "%autoreload 2"
   ],
   "outputs": [],
   "metadata": {}
  },
  {
   "cell_type": "markdown",
   "source": [
    "## Documentation\n",
    "\n",
    "To display the documentation associated to a Python function in your notebook (launched in VSCode), you can either\n",
    "- run `?functionname` or `help(my_adder)`\n",
    "- place your mouse pointer on the function name\n",
    "- write the name of the function and start opening the brackets"
   ],
   "metadata": {}
  },
  {
   "cell_type": "markdown",
   "source": [
    "## Zen of Python\n"
   ],
   "metadata": {}
  },
  {
   "cell_type": "code",
   "execution_count": 2,
   "source": [
    "import this"
   ],
   "outputs": [
    {
     "output_type": "stream",
     "name": "stdout",
     "text": [
      "The Zen of Python, by Tim Peters\n",
      "\n",
      "Beautiful is better than ugly.\n",
      "Explicit is better than implicit.\n",
      "Simple is better than complex.\n",
      "Complex is better than complicated.\n",
      "Flat is better than nested.\n",
      "Sparse is better than dense.\n",
      "Readability counts.\n",
      "Special cases aren't special enough to break the rules.\n",
      "Although practicality beats purity.\n",
      "Errors should never pass silently.\n",
      "Unless explicitly silenced.\n",
      "In the face of ambiguity, refuse the temptation to guess.\n",
      "There should be one-- and preferably only one --obvious way to do it.\n",
      "Although that way may not be obvious at first unless you're Dutch.\n",
      "Now is better than never.\n",
      "Although never is often better than *right* now.\n",
      "If the implementation is hard to explain, it's a bad idea.\n",
      "If the implementation is easy to explain, it may be a good idea.\n",
      "Namespaces are one honking great idea -- let's do more of those!\n"
     ]
    }
   ],
   "metadata": {}
  },
  {
   "cell_type": "markdown",
   "source": [
    "## Reserved keywords\n"
   ],
   "metadata": {}
  },
  {
   "cell_type": "code",
   "execution_count": 3,
   "source": [
    "import keyword\r\n",
    "print(keyword.kwlist)"
   ],
   "outputs": [
    {
     "output_type": "stream",
     "name": "stdout",
     "text": [
      "['False', 'None', 'True', 'and', 'as', 'assert', 'async', 'await', 'break', 'class', 'continue', 'def', 'del', 'elif', 'else', 'except', 'finally', 'for', 'from', 'global', 'if', 'import', 'in', 'is', 'lambda', 'nonlocal', 'not', 'or', 'pass', 'raise', 'return', 'try', 'while', 'with', 'yield']\n"
     ]
    }
   ],
   "metadata": {}
  },
  {
   "cell_type": "markdown",
   "source": [
    "## Arithmetic"
   ],
   "metadata": {}
  },
  {
   "cell_type": "markdown",
   "source": [
    "Compute 4 raised to the power 8"
   ],
   "metadata": {}
  },
  {
   "cell_type": "code",
   "execution_count": 4,
   "source": [
    "4**8"
   ],
   "outputs": [
    {
     "output_type": "execute_result",
     "data": {
      "text/plain": [
       "65536"
      ]
     },
     "metadata": {},
     "execution_count": 4
    }
   ],
   "metadata": {}
  },
  {
   "cell_type": "markdown",
   "source": [
    "Compute the quotient and the remainder of the euclidean division of 17 by 3. "
   ],
   "metadata": {}
  },
  {
   "cell_type": "code",
<<<<<<< HEAD
   "execution_count": 5,
   "source": [
    "(17//3,17%3)"
=======
   "execution_count": 7,
   "source": [
    "q=17//3\n",
    "r=17%3\n",
    "q,r"
>>>>>>> 0c15242accca009adc793de993ed878c78c66c5a
   ],
   "outputs": [
    {
     "output_type": "execute_result",
     "data": {
      "text/plain": [
       "(5, 2)"
      ]
     },
     "metadata": {},
<<<<<<< HEAD
     "execution_count": 5
=======
     "execution_count": 7
>>>>>>> 0c15242accca009adc793de993ed878c78c66c5a
    }
   ],
   "metadata": {}
  },
  {
   "cell_type": "markdown",
   "source": [
    "Create two integer variables `a, b` of your choice and swap their content."
   ],
   "metadata": {}
  },
  {
   "cell_type": "code",
<<<<<<< HEAD
   "execution_count": 6,
   "source": [
    "a = int(4)\r\n",
    "b = int(9)\r\n",
    "(a,b)=(b,a)\r\n",
    "print(a,b)"
   ],
   "outputs": [
    {
     "output_type": "stream",
     "name": "stdout",
     "text": [
      "9 4\n"
     ]
=======
   "execution_count": 9,
   "source": [
    "a=1\n",
    "b=2\n",
    "\n",
    "a,b=b,a\n",
    "\n",
    "(a,b)"
   ],
   "outputs": [
    {
     "output_type": "execute_result",
     "data": {
      "text/plain": [
       "(2, 1)"
      ]
     },
     "metadata": {},
     "execution_count": 9
>>>>>>> 0c15242accca009adc793de993ed878c78c66c5a
    }
   ],
   "metadata": {}
  },
  {
   "cell_type": "markdown",
   "source": [
    "Modify `a` inplace, so that the new value of `a` is twice its previous value."
   ],
   "metadata": {}
  },
  {
   "cell_type": "code",
<<<<<<< HEAD
   "execution_count": 7,
   "source": [
    "a=2*a\r\n",
=======
   "execution_count": 12,
   "source": [
    "a=1\n",
    "a=2*a\n",
    "\n",
>>>>>>> 0c15242accca009adc793de993ed878c78c66c5a
    "a"
   ],
   "outputs": [
    {
     "output_type": "execute_result",
     "data": {
      "text/plain": [
<<<<<<< HEAD
       "18"
      ]
     },
     "metadata": {},
     "execution_count": 7
=======
       "2"
      ]
     },
     "metadata": {},
     "execution_count": 12
>>>>>>> 0c15242accca009adc793de993ed878c78c66c5a
    }
   ],
   "metadata": {}
  },
  {
   "cell_type": "markdown",
   "source": [
    "Define a complex number `z` and print it as\r\n",
    "\r\n",
    "`real=real-part, imag=imaginary-part`"
   ],
   "metadata": {}
  },
  {
   "cell_type": "code",
<<<<<<< HEAD
   "execution_count": 8,
   "source": [
    "#z = a + b*1j\r\n",
    "z=complex(a,b)\r\n",
    "real=z.real\r\n",
    "imag=z.imag\r\n",
    "z"
=======
   "execution_count": 15,
   "source": [
    "z=complex(2,3)\n",
    "\n",
    "real=z.real\n",
    "imag=z.imag\n",
    "\n",
    "real,imag ,z"
>>>>>>> 0c15242accca009adc793de993ed878c78c66c5a
   ],
   "outputs": [
    {
     "output_type": "execute_result",
     "data": {
      "text/plain": [
<<<<<<< HEAD
       "(18+4j)"
      ]
     },
     "metadata": {},
     "execution_count": 8
=======
       "(2.0, 3.0, (2+3j))"
      ]
     },
     "metadata": {},
     "execution_count": 15
>>>>>>> 0c15242accca009adc793de993ed878c78c66c5a
    }
   ],
   "metadata": {}
  },
  {
   "cell_type": "markdown",
   "source": [
    "## Strings\n"
   ],
   "metadata": {}
  },
  {
   "cell_type": "markdown",
   "source": [
    "Propose two ways to define an empty string"
   ],
   "metadata": {}
  },
  {
   "cell_type": "code",
<<<<<<< HEAD
   "execution_count": 9,
   "source": [
    "# str(), ' '"
   ],
   "outputs": [],
=======
   "execution_count": 19,
   "source": [
    "str1=''\n",
    "str2=str()\n",
    "\n",
    "str1 ,str2"
   ],
   "outputs": [
    {
     "output_type": "execute_result",
     "data": {
      "text/plain": [
       "('', '')"
      ]
     },
     "metadata": {},
     "execution_count": 19
    }
   ],
>>>>>>> 0c15242accca009adc793de993ed878c78c66c5a
   "metadata": {}
  },
  {
   "cell_type": "markdown",
   "source": [
    "Define a string made of the 26 letters of the alphabet (lower case), then\n",
    "- What is the 12th letter of the alphabet\n",
    "- What are the 10 last letters of the alphabet\n",
    "- What are the 5th to the 10th letters of the alphabet\n",
    "- Create a new string where the 26 letters are converted to upper case."
   ],
   "metadata": {}
  },
  {
   "cell_type": "code",
<<<<<<< HEAD
   "execution_count": 10,
   "source": [
    "ALPHABET= 'abcdefghijklmnopqrstuvwxyz'\r\n",
    "A2=ALPHABET[-10::1]\r\n",
    "print(A2)\r\n",
    "ALPHABET[4],ALPHABET[9]\r\n"
   ],
   "outputs": [
    {
     "output_type": "stream",
     "name": "stdout",
     "text": [
      "qrstuvwxyz\n"
     ]
    },
    {
     "output_type": "execute_result",
     "data": {
      "text/plain": [
       "('e', 'j')"
      ]
     },
     "metadata": {},
     "execution_count": 10
    }
   ],
   "metadata": {}
  },
  {
   "cell_type": "code",
   "execution_count": 11,
   "source": [
    "alphabet=ALPHABET.upper()\r\n",
    "print(alphabet)"
   ],
   "outputs": [
    {
     "output_type": "stream",
     "name": "stdout",
     "text": [
      "ABCDEFGHIJKLMNOPQRSTUVWXYZ\n"
     ]
=======
   "execution_count": 31,
   "source": [
    "alphabet='abcdefghijklmnopqrstuvwxyz'\n",
    "alphabet[11]\n",
    "alphabet[-10:]\n",
    "alphabet[4] , alphabet[9]\n",
    "Alphabet2=alphabet.upper()\n",
    "Alphabet2"
   ],
   "outputs": [
    {
     "output_type": "execute_result",
     "data": {
      "text/plain": [
       "'ABCDEFGHIJKLMNOPQRSTUVWXYZ'"
      ]
     },
     "metadata": {},
     "execution_count": 31
>>>>>>> 0c15242accca009adc793de993ed878c78c66c5a
    }
   ],
   "metadata": {}
  },
  {
   "cell_type": "markdown",
   "source": [
    "Extract the first 4 digits of the number `x = 2341324530045968` (answer is `2341`)."
   ],
   "metadata": {}
  },
  {
   "cell_type": "code",
<<<<<<< HEAD
   "execution_count": 12,
   "source": [
    "x = 2341324530045968\r\n",
    "X=str(x)\r\n",
    "print(X[0:4:1])"
   ],
   "outputs": [
    {
     "output_type": "stream",
     "name": "stdout",
     "text": [
      "2341\n"
     ]
=======
   "execution_count": 33,
   "source": [
    "x=2341324530045968\n",
    "X=str(x)\n",
    "first4=X[0:4]\n",
    "first4"
   ],
   "outputs": [
    {
     "output_type": "execute_result",
     "data": {
      "text/plain": [
       "'2341'"
      ]
     },
     "metadata": {},
     "execution_count": 33
>>>>>>> 0c15242accca009adc793de993ed878c78c66c5a
    }
   ],
   "metadata": {}
  },
  {
   "cell_type": "markdown",
   "source": [
    "## Lists"
   ],
   "metadata": {}
  },
  {
   "cell_type": "markdown",
   "source": [
    "Propose two ways to define an empty list."
   ],
   "metadata": {}
  },
  {
   "cell_type": "code",
<<<<<<< HEAD
   "execution_count": 13,
   "source": [
    "# list(), []"
   ],
   "outputs": [],
=======
   "execution_count": 34,
   "source": [
    "L1=[]\n",
    "L2=list()\n",
    "\n",
    "L1,L2"
   ],
   "outputs": [
    {
     "output_type": "execute_result",
     "data": {
      "text/plain": [
       "([], [])"
      ]
     },
     "metadata": {},
     "execution_count": 34
    }
   ],
>>>>>>> 0c15242accca009adc793de993ed878c78c66c5a
   "metadata": {}
  },
  {
   "cell_type": "markdown",
   "source": [
    "Create the list of consecutive integers from 5 to 11."
   ],
   "metadata": {}
  },
  {
   "cell_type": "code",
<<<<<<< HEAD
   "execution_count": 14,
   "source": [
    "I=[i for i in range(5,12)]\r\n",
    "I"
=======
   "execution_count": 36,
   "source": [
    "L=[i for i in range (5,12)]\n",
    "\n",
    "L"
>>>>>>> 0c15242accca009adc793de993ed878c78c66c5a
   ],
   "outputs": [
    {
     "output_type": "execute_result",
     "data": {
      "text/plain": [
       "[5, 6, 7, 8, 9, 10, 11]"
      ]
     },
     "metadata": {},
<<<<<<< HEAD
     "execution_count": 14
=======
     "execution_count": 36
>>>>>>> 0c15242accca009adc793de993ed878c78c66c5a
    }
   ],
   "metadata": {}
  },
  {
   "cell_type": "markdown",
   "source": [
    "Add `100` to this list."
   ],
   "metadata": {}
  },
  {
   "cell_type": "code",
<<<<<<< HEAD
   "execution_count": 15,
   "source": [
    "I.append(100)\r\n",
    "I"
=======
   "execution_count": 37,
   "source": [
    "L.append(100)\n",
    "L"
>>>>>>> 0c15242accca009adc793de993ed878c78c66c5a
   ],
   "outputs": [
    {
     "output_type": "execute_result",
     "data": {
      "text/plain": [
       "[5, 6, 7, 8, 9, 10, 11, 100]"
      ]
     },
     "metadata": {},
<<<<<<< HEAD
     "execution_count": 15
=======
     "execution_count": 37
>>>>>>> 0c15242accca009adc793de993ed878c78c66c5a
    }
   ],
   "metadata": {}
  },
  {
   "cell_type": "markdown",
   "source": [
    "Given the following list, \n",
    "Change the `\"sdia\"` to its reverse (`\"aids\"`)."
   ],
   "metadata": {}
  },
  {
   "cell_type": "code",
<<<<<<< HEAD
   "execution_count": 16,
=======
   "execution_count": 43,
>>>>>>> 0c15242accca009adc793de993ed878c78c66c5a
   "source": [
    "x = [10, [3, 4], [5, [100, 200, [\"sdia\"]], 23, 11], 1, 7]\n",
    "\n",
    "x[2][1][2][0]=x[2][1][2][0][::-1]\n",
    "x\n"
   ],
   "outputs": [
    {
     "output_type": "execute_result",
     "data": {
      "text/plain": [
       "[10, [3, 4], [5, [100, 200, ['aids']], 23, 11], 1, 7]"
      ]
     },
     "metadata": {},
     "execution_count": 43
    }
   ],
   "metadata": {}
  },
  {
   "cell_type": "code",
   "execution_count": 17,
   "source": [
    "x[2][1][2][0] = x[2][1][2][0][::-1]\r\n",
    "print(x)"
   ],
   "outputs": [
    {
     "output_type": "stream",
     "name": "stdout",
     "text": [
      "[10, [3, 4], [5, [100, 200, ['aids']], 23, 11], 1, 7]\n"
     ]
    }
   ],
   "metadata": {}
  },
  {
   "cell_type": "markdown",
   "source": [
    "Given the following list, \n",
    "\n",
    "  1. extract the first two items\n",
    "  2. extract the last two items\n",
    "  3. find the index of the first occurence of `9`\n",
    "  4. extract the items located at odd indices\n",
    "  5. create a new list which corresponds to the reversed version of the originial list\n",
    "  6. create a new list where each item of the original list is raised to the power 3"
   ],
   "metadata": {}
  },
  {
   "cell_type": "code",
<<<<<<< HEAD
   "execution_count": 18,
=======
   "execution_count": 45,
>>>>>>> 0c15242accca009adc793de993ed878c78c66c5a
   "source": [
    "x = [3, 7, 5, 3, 8, 6, 8, 8, 0, 7, 3, 9, 3, 4, 2, 7, 0, 9, 5, 0, 0, 9, 0, 9, 3, 1, 4, 0, 5, 5, 5, 8, 9, 9, 5, 5, 4, 9, 5, 6, 2, 8, 5, 2, 4, 9, 2, 2, 3, 1]\r\n"
   ],
   "outputs": [],
   "metadata": {}
  },
  {
   "cell_type": "code",
<<<<<<< HEAD
   "execution_count": 19,
   "source": [
    "x[0],x[1]"
   ],
   "outputs": [
    {
     "output_type": "execute_result",
     "data": {
      "text/plain": [
       "(3, 7)"
      ]
     },
     "metadata": {},
     "execution_count": 19
    }
   ],
   "metadata": {}
  },
  {
   "cell_type": "code",
   "execution_count": 20,
   "source": [
    "x[-1],x[-2]"
   ],
   "outputs": [
    {
     "output_type": "execute_result",
     "data": {
      "text/plain": [
       "(1, 3)"
      ]
     },
     "metadata": {},
     "execution_count": 20
    }
   ],
   "metadata": {}
  },
  {
   "cell_type": "code",
   "execution_count": 21,
   "source": [
    "x.index(9)"
   ],
   "outputs": [
    {
     "output_type": "execute_result",
     "data": {
      "text/plain": [
       "11"
      ]
     },
     "metadata": {},
     "execution_count": 21
    }
   ],
   "metadata": {}
  },
  {
   "cell_type": "code",
   "execution_count": 22,
   "source": [
=======
   "execution_count": 47,
   "source": [
    "x[0],x[1]\n",
    "x[-1],x[-2]\n",
    "x.index(9)\n",
>>>>>>> 0c15242accca009adc793de993ed878c78c66c5a
    "x[1::2]"
   ],
   "outputs": [
    {
     "output_type": "execute_result",
     "data": {
      "text/plain": [
<<<<<<< HEAD
       "[7, 3, 6, 8, 7, 9, 4, 7, 9, 0, 9, 9, 1, 0, 5, 8, 9, 5, 9, 6, 8, 2, 9, 2, 1]"
      ]
     },
     "metadata": {},
     "execution_count": 22
=======
       "[3, 5, 8, 8, 0, 3, 3, 2, 0, 5, 0, 0, 3, 4, 5, 5, 9, 5, 4, 5, 2, 5, 4, 2, 3]"
      ]
     },
     "metadata": {},
     "execution_count": 47
>>>>>>> 0c15242accca009adc793de993ed878c78c66c5a
    }
   ],
   "metadata": {}
  },
  {
   "cell_type": "code",
<<<<<<< HEAD
   "execution_count": 23,
   "source": [
    "y=[]\r\n",
    "for value in x:\r\n",
    "    y.append(value**3)\r\n",
    "y"
   ],
   "outputs": [
    {
     "output_type": "execute_result",
     "data": {
      "text/plain": [
       "[27,\n",
       " 343,\n",
       " 125,\n",
       " 27,\n",
       " 512,\n",
       " 216,\n",
       " 512,\n",
       " 512,\n",
       " 0,\n",
       " 343,\n",
       " 27,\n",
       " 729,\n",
       " 27,\n",
       " 64,\n",
       " 8,\n",
       " 343,\n",
       " 0,\n",
       " 729,\n",
       " 125,\n",
       " 0,\n",
       " 0,\n",
       " 729,\n",
       " 0,\n",
       " 729,\n",
       " 27,\n",
       " 1,\n",
       " 64,\n",
       " 0,\n",
       " 125,\n",
       " 125,\n",
       " 125,\n",
       " 512,\n",
       " 729,\n",
       " 729,\n",
       " 125,\n",
       " 125,\n",
       " 64,\n",
       " 729,\n",
       " 125,\n",
       " 216,\n",
       " 8,\n",
       " 512,\n",
       " 125,\n",
       " 8,\n",
       " 64,\n",
       " 729,\n",
       " 8,\n",
       " 8,\n",
       " 27,\n",
       " 1]"
      ]
     },
     "metadata": {},
     "execution_count": 23
    }
   ],
   "metadata": {}
  },
  {
   "cell_type": "code",
   "execution_count": 24,
   "source": [
    "[value**3 for value in x]"
   ],
   "outputs": [
    {
     "output_type": "execute_result",
     "data": {
      "text/plain": [
       "[27,\n",
       " 343,\n",
       " 125,\n",
       " 27,\n",
       " 512,\n",
       " 216,\n",
       " 512,\n",
       " 512,\n",
       " 0,\n",
       " 343,\n",
       " 27,\n",
       " 729,\n",
       " 27,\n",
       " 64,\n",
       " 8,\n",
       " 343,\n",
       " 0,\n",
       " 729,\n",
       " 125,\n",
       " 0,\n",
       " 0,\n",
       " 729,\n",
       " 0,\n",
       " 729,\n",
       " 27,\n",
       " 1,\n",
       " 64,\n",
       " 0,\n",
       " 125,\n",
       " 125,\n",
       " 125,\n",
       " 512,\n",
       " 729,\n",
       " 729,\n",
       " 125,\n",
       " 125,\n",
       " 64,\n",
       " 729,\n",
       " 125,\n",
       " 216,\n",
       " 8,\n",
       " 512,\n",
       " 125,\n",
       " 8,\n",
       " 64,\n",
       " 729,\n",
       " 8,\n",
       " 8,\n",
       " 27,\n",
       " 1]"
      ]
     },
     "metadata": {},
     "execution_count": 24
    }
   ],
=======
   "execution_count": null,
   "source": [
    "y=[]\n",
    "for value in x:\n",
    "    y.append(value**3)\n",
    "\n",
    "[value**3 for value in x]\n"
   ],
   "outputs": [],
>>>>>>> 0c15242accca009adc793de993ed878c78c66c5a
   "metadata": {}
  },
  {
   "cell_type": "markdown",
   "source": [
    "## Tuples"
   ],
   "metadata": {}
  },
  {
   "cell_type": "markdown",
   "source": [
    "Les tuples ne sont pas modifiables directement\n"
   ],
   "metadata": {}
  },
  {
   "cell_type": "markdown",
   "source": [
    "\n",
    "Propose two ways to define an empty tuple."
   ],
   "metadata": {}
  },
  {
   "cell_type": "code",
<<<<<<< HEAD
   "execution_count": 1,
   "source": [
    "# ()"
   ],
   "outputs": [],
=======
   "execution_count": 3,
   "source": [
    "tuple1=()\n",
    "tuple2=tuple()\n",
    "tuple1 , tuple2\n"
   ],
   "outputs": [
    {
     "output_type": "execute_result",
     "data": {
      "text/plain": [
       "((), ())"
      ]
     },
     "metadata": {},
     "execution_count": 3
    }
   ],
>>>>>>> 0c15242accca009adc793de993ed878c78c66c5a
   "metadata": {}
  },
  {
   "cell_type": "markdown",
   "source": [
    "Given the following tuple\n",
    "- try to replace the second item (`4`) to `8`.\n",
    "- modify the list so that the second element of the first item is raised to the power 5 "
   ],
   "metadata": {}
  },
  {
   "cell_type": "code",
   "execution_count": 2,
   "source": [
    "x = ([1, 2, 3], 4)\r\n",
    "x[0][1] = x[0][1] ** 5\r\n",
    "x"
   ],
   "outputs": [
    {
     "output_type": "execute_result",
     "data": {
      "text/plain": [
       "([1, 32, 3], 4)"
      ]
     },
     "metadata": {},
     "execution_count": 2
    }
   ],
   "metadata": {}
  },
  {
   "cell_type": "code",
   "execution_count": 5,
   "source": [
    "lst = list(x)\r\n",
    "lst[1] = 8\r\n",
    "x = tuple(lst)\r\n",
    "x"
   ],
   "outputs": [
    {
     "output_type": "execute_result",
     "data": {
      "text/plain": [
       "([1, 32, 3], 8)"
      ]
     },
     "metadata": {},
     "execution_count": 5
    }
   ],
   "metadata": {}
  },
  {
   "cell_type": "code",
   "execution_count": 10,
   "source": [
    "x=([1,2,3],4)\n",
    "#x[1]=8 #impossible\n",
    "x[0][1]=x[0][1]**5\n",
    "x"
   ],
   "outputs": [
    {
     "output_type": "execute_result",
     "data": {
      "text/plain": [
       "([1, 32, 3], 4)"
      ]
     },
     "metadata": {},
     "execution_count": 10
    }
   ],
   "metadata": {}
  },
  {
   "cell_type": "markdown",
   "source": [
    "What is the main difference between a list and a tuple?"
   ],
   "metadata": {}
  },
  {
   "cell_type": "markdown",
   "source": [
<<<<<<< HEAD
    "Une liste est modifiable"
   ],
   "metadata": {}
  },
  {
   "cell_type": "markdown",
   "source": [
    "Les tuples ne sont pas modifiables directement"
=======
    "Les listes sont modifiables mais les tuples ne le sont pas"
>>>>>>> 0c15242accca009adc793de993ed878c78c66c5a
   ],
   "metadata": {}
  },
  {
   "cell_type": "markdown",
   "source": [
    "## Sets"
   ],
   "metadata": {}
  },
  {
   "cell_type": "markdown",
   "source": [
    "Create an empty set"
   ],
   "metadata": {}
  },
  {
   "cell_type": "code",
<<<<<<< HEAD
   "execution_count": 6,
   "source": [
    "# {}"
   ],
   "outputs": [],
=======
   "execution_count": 13,
   "source": [
    "set1=set()\n",
    "set2={}\n",
    "set1,set2\n"
   ],
   "outputs": [
    {
     "output_type": "execute_result",
     "data": {
      "text/plain": [
       "(set(), {})"
      ]
     },
     "metadata": {},
     "execution_count": 13
    }
   ],
>>>>>>> 0c15242accca009adc793de993ed878c78c66c5a
   "metadata": {}
  },
  {
   "cell_type": "markdown",
   "source": [
    "Compute the intersection between $A = \\{1, 2, 3\\}$ and $B = \\{2, 4, 5, 6\\}$."
   ],
   "metadata": {}
  },
  {
   "cell_type": "code",
<<<<<<< HEAD
   "execution_count": 8,
   "source": [
    "A = {1, 2, 3}\r\n",
    "B = {2, 4, 5, 6}\r\n",
    "C = A.intersection(B)\r\n",
=======
   "execution_count": 14,
   "source": [
    "A={1,2,3}\n",
    "B={2,3,5,6}\n",
    "C=A.intersection(B)\n",
    "\n",
>>>>>>> 0c15242accca009adc793de993ed878c78c66c5a
    "C"
   ],
   "outputs": [
    {
     "output_type": "execute_result",
     "data": {
      "text/plain": [
<<<<<<< HEAD
       "{2}"
      ]
     },
     "metadata": {},
     "execution_count": 8
=======
       "{2, 3}"
      ]
     },
     "metadata": {},
     "execution_count": 14
>>>>>>> 0c15242accca009adc793de993ed878c78c66c5a
    }
   ],
   "metadata": {}
  },
  {
   "cell_type": "markdown",
   "source": [
    "From the following set\n",
    "- add the numbers 4, 5, 6\n",
    "- remove the numbers 1, 2, 3\n",
    "- check if the resulting set is contained in `{1, 2, 4, 5, 6, 10}` "
   ],
   "metadata": {}
  },
  {
   "cell_type": "code",
<<<<<<< HEAD
   "execution_count": 16,
   "source": [
    "x = {0, 1, 2, 3, 6, 7, 8, 9, 10}\r\n",
    "x.update([4,5,6])\r\n",
    "x.difference_update([1,2,3])\r\n",
    "x"
=======
   "execution_count": 20,
   "source": [
    "x = {0, 1, 2, 3, 6, 7, 8, 9, 10}\n",
    "x.update([4,5,6])\n",
    "x.remove(1)\n",
    "x.remove(2)\n",
    "x.remove(3)\n",
    "\n",
    "#ou x.difference_update([1,2,3])\n",
    "\n",
    "{1,2,4,5,6,10}.issubset(x)"
>>>>>>> 0c15242accca009adc793de993ed878c78c66c5a
   ],
   "outputs": [
    {
     "output_type": "execute_result",
     "data": {
      "text/plain": [
<<<<<<< HEAD
       "{0, 4, 5, 6, 7, 8, 9, 10}"
      ]
     },
     "metadata": {},
     "execution_count": 16
=======
       "False"
      ]
     },
     "metadata": {},
     "execution_count": 20
>>>>>>> 0c15242accca009adc793de993ed878c78c66c5a
    }
   ],
   "metadata": {}
  },
  {
   "cell_type": "markdown",
   "source": [
    "## Dictionnaries"
   ],
   "metadata": {}
  },
  {
   "cell_type": "markdown",
   "source": [
    "Propose two ways to define an empty dictionary"
   ],
   "metadata": {}
  },
  {
   "cell_type": "code",
   "execution_count": 21,
   "source": [
    "emptydic1={}\n",
    "\n",
    "emptydic2=dict()\n",
    "\n",
    "emptydic1 , emptydic2\n"
   ],
   "outputs": [
    {
     "output_type": "execute_result",
     "data": {
      "text/plain": [
       "({}, {})"
      ]
     },
     "metadata": {},
     "execution_count": 21
    }
   ],
   "metadata": {}
  },
  {
   "cell_type": "markdown",
   "source": [
    "Propose at least 3 ways to define a dictionary with \n",
    "- keys `(\"a\", \"b\", \"c\", \"d\")`\n",
    "- values `(1, 3, 5 , 7)`"
   ],
   "metadata": {}
  },
  {
   "cell_type": "code",
<<<<<<< HEAD
   "execution_count": 17,
   "source": [
    "thisdict = {\r\n",
    "  \"a\": 1,\r\n",
    "  \"b\": 3,\r\n",
    "  \"c\": 5,\r\n",
    "  \"d\": 7\r\n",
    "}\r\n",
    "print(thisdict)"
   ],
   "outputs": [
    {
     "output_type": "stream",
     "name": "stdout",
     "text": [
      "{'a': 1, 'b': 3, 'c': 5, 'd': 7}\n"
     ]
=======
   "execution_count": 23,
   "source": [
    "dict1={\"a\":1,\"b\":3,\"c\":5,\"d\":7}\n",
    "\n",
    "dict2={}\n",
    "\n",
    "dict2[\"a\"]=1\n",
    "dict2[\"b\"]=3\n",
    "dict2[\"c\"]=5\n",
    "dict2[\"d\"]=7\n",
    "\n",
    "dict1 , dict2\n"
   ],
   "outputs": [
    {
     "output_type": "execute_result",
     "data": {
      "text/plain": [
       "({'a': 1, 'b': 3, 'c': 5, 'd': 7}, {'a': 1, 'b': 3, 'c': 5, 'd': 7})"
      ]
     },
     "metadata": {},
     "execution_count": 23
>>>>>>> 0c15242accca009adc793de993ed878c78c66c5a
    }
   ],
   "metadata": {}
  },
  {
   "cell_type": "markdown",
   "source": [
    "Given the following dictionary, use indexing to get to the word `\"sdia\"`"
   ],
   "metadata": {}
  },
  {
   "cell_type": "code",
<<<<<<< HEAD
   "execution_count": 21,
   "source": [
    "d = {\r\n",
    "    \"outer\": [\r\n",
    "        1,\r\n",
    "        2,\r\n",
    "        3,\r\n",
    "        {\"inner\": [\"this\", \"is\", \"inception\", {\"inner_inner\": [1, 2, 3, \"sdia\"]}]},\r\n",
    "    ]\r\n",
    "}\r\n",
    "\r\n",
    "x = d.keys()\r\n",
    "x"
=======
   "execution_count": 35,
   "source": [
    "d = {\n",
    "    \"outer\": [\n",
    "        1,\n",
    "        2,\n",
    "        3,\n",
    "        {\"inner\": [\"this\", \"is\", \"inception\", {\"inner_inner\": [1, 2, 3, \"sdia\"]}]},\n",
    "    ]\n",
    "}\n",
    "\n",
    "((d.get('outer')[3]).get(\"inner\")[3]).get(\"inner_inner\")[3]"
>>>>>>> 0c15242accca009adc793de993ed878c78c66c5a
   ],
   "outputs": [
    {
     "output_type": "execute_result",
     "data": {
      "text/plain": [
<<<<<<< HEAD
       "dict_keys(['outer'])"
      ]
     },
     "metadata": {},
     "execution_count": 21
    }
   ],
   "metadata": {}
  },
  {
   "cell_type": "code",
   "execution_count": 28,
   "source": [
    "y = (d.get(\"outer\")[3]).get(\"this\")\r\n",
    "y"
=======
       "'sdia'"
      ]
     },
     "metadata": {},
     "execution_count": 35
    }
>>>>>>> 0c15242accca009adc793de993ed878c78c66c5a
   ],
   "metadata": {}
  },
  {
   "cell_type": "markdown",
   "source": [
    "From the following dictionary,\n",
    "- Create the list of keys\n",
    "- Create the list of values\n",
    "- Check if the key `\"abc\"` is present, if not, return `123`.\n",
    "- Merge the initial dictionary with `{\"e\": -1, 4: True}`"
   ],
   "metadata": {}
  },
  {
   "cell_type": "code",
   "execution_count": 75,
   "source": [
    "d1 = dict(zip([(0, 1), \"e\", 1, None], [\"abc\", 4, None, 1 + 2j])) #dict()\n",
    "\n",
    "k=d1.keys()\n",
    "v=d1.values()\n",
    "\n",
    "k,v\n",
    "\n",
    "\"abc\" in k\n",
    "\n",
    "\n",
    "d2 = dict(zip([\"e\", 4], [-1, True])) #dict()\n",
    "\n",
    "\n",
    "\n",
    "\n",
    "d1.update(d2)\n",
    "\n",
    "\n",
    "d1\n",
    "\n",
    "\n"
   ],
   "outputs": [
    {
     "output_type": "execute_result",
     "data": {
      "text/plain": [
       "{(0, 1): 'abc', 'e': -1, 1: None, None: (1+2j), 4: True}"
      ]
     },
     "metadata": {},
     "execution_count": 75
    }
   ],
   "metadata": {}
  },
  {
   "cell_type": "markdown",
   "source": [
    "## Conditions"
   ],
   "metadata": {}
  },
  {
   "cell_type": "markdown",
   "source": [
    "Propose two ways to construct the list of odd values ranging from 0 to 30"
   ],
   "metadata": {}
  },
  {
   "cell_type": "code",
   "execution_count": 58,
   "source": [
    "L1=[2*i+1 for i in range (0,15)]\n",
    "L1\n",
    "\n",
    "L2=[]\n",
    "for i in range (0,31):\n",
    "    if i%2==1:\n",
    "        L2.append(i)\n",
    "\n",
    "L2\n",
    "\n"
   ],
   "outputs": [
    {
     "output_type": "execute_result",
     "data": {
      "text/plain": [
       "[1, 3, 5, 7, 9, 11, 13, 15, 17, 19, 21, 23, 25, 27, 29]"
      ]
     },
     "metadata": {},
     "execution_count": 58
    }
   ],
   "metadata": {}
  },
  {
   "cell_type": "markdown",
   "source": [
    "From the following list, create another list which contains\n",
    "- `\"fiz\"` if the item is a multiple of 5,\n",
    "- `\"buz\"` if the item is a multiple of 7,\n",
    "- `\"fizbuz\"` if the item is a both a multiple of 5 and 7,\n",
    "- the index of the item otherwise."
   ],
   "metadata": {}
  },
  {
   "cell_type": "code",
<<<<<<< HEAD
   "execution_count": 31,
   "source": [
    "x = [2, 1, 3, 31, 35, 20, 70, 132, 144, 49]\r\n",
    "I=[]\r\n",
    "for i in range(len(x)):\r\n",
    "    if x[i]%5 and x[i]%7 :\r\n",
    "        I.append(\"fizbuz\")\r\n",
    "    elif x[i]%5:\r\n",
    "        I.append(\"fiz\")\r\n",
    "    elif x[i]%7 :\r\n",
    "        I.append(\"buz\")\r\n",
    "    else:\r\n",
    "        I.append(i)\r\n",
    "print(I)"
   ],
   "outputs": [
    {
     "output_type": "stream",
     "name": "stdout",
     "text": [
      "['fizbuz', 'fizbuz', 'fizbuz', 'fizbuz', 4, 'buz', 6, 'fizbuz', 'fizbuz', 'fiz']\n"
     ]
=======
   "execution_count": 78,
   "source": [
    "x = [2, 1, 3, 31, 35, 20, 70, 132, 144, 49]\n",
    "for i in range(len(x)):\n",
    "    \n",
    "    \n",
    "    if (x[i]%5==0 and x[i]%7==0):\n",
    "        x[i]=\"fizbuz\"\n",
    "\n",
    "    elif x[i]%5==0:\n",
    "        x[i]=\"fiz\"\n",
    "\n",
    "    elif x[i]%7==0:\n",
    "        x[i]=\"buz\"\n",
    "    else:\n",
    "        x[i]=i\n",
    "x"
   ],
   "outputs": [
    {
     "output_type": "execute_result",
     "data": {
      "text/plain": [
       "[0, 1, 2, 3, 'fizbuz', 'fiz', 'fizbuz', 7, 8, 'buz']"
      ]
     },
     "metadata": {},
     "execution_count": 78
>>>>>>> 0c15242accca009adc793de993ed878c78c66c5a
    }
   ],
   "metadata": {}
  },
  {
   "cell_type": "markdown",
   "source": [
    "Given a string variable `course`, construct a `if/elif/else` statement that prints:\n",
    "- `\"That is very useful!\"` if `course` is `\"maths\"` (any kind of capitalization)\n",
    "- `\"That is very useful!\"` if `course` is `\"python\"` (any kind of capitalization)\n",
    "- `\"How nice!\"` if `course` is `\"meditation\"` (any kind of capitalization)\n",
    "- `\"You're not at Hogwarts\"` if `course` is `\"magic\"` (any kind of capitalization)\n",
    "- otherwise `\"What is this COURSE?\"` if `course` is anything else."
   ],
   "metadata": {}
  },
  {
   "cell_type": "code",
   "execution_count": 80,
   "source": [
    "course=\"maths\"\n",
    "\n",
    "if course==\"maths\":\n",
    "    print(\"That is very useful !\")\n",
    "elif course==\"maths\":\n",
    "    print(\"That is very useful !\")\n",
    "elif course==\"maths\":\n",
    "    print(\"How nice !\")\n",
    "elif course==\"maths\":\n",
    "    print(\"You're not at Hogwarts\")\n",
    "else:\n",
    "    print(\"What is this COURSE?\")"
   ],
   "outputs": [
    {
     "output_type": "stream",
     "name": "stdout",
     "text": [
      "That is very useful !\n"
     ]
    }
   ],
   "metadata": {}
  },
  {
   "cell_type": "markdown",
   "source": [
    "Given the following variables, create and print the string\n",
    "\n",
    "``quantity`` ``fruit``(s) cost(s) $``price``\n",
    "\n",
    "such that\n",
    "- there is an `\"s\"` at `\"cost\"` when there is more only one fruit,\n",
    "- there is an `\"s\"` at `\"fruit\"` when there is more that one fruit,\n",
    "- the price is displayed as ...,xxx,xxx.yy where yy corresponds rounded cents value"
   ],
   "metadata": {}
  },
  {
   "cell_type": "code",
   "execution_count": 90,
   "source": [
<<<<<<< HEAD
    "quantity = 1\r\n",
    "fruit = \"avocado\"\r\n",
    "price = 1.8912392e4"
=======
    "quantity = 1\n",
    "fruit = \"avocado\"\n",
    "price = 1.8912392e4\n",
    "\n",
    "if quantity==1:\n",
    "    print(str(quantity)+\" \"+fruit+\" cost \"+\"$\"+str(price))\n",
    "\n",
    "if quantity>1:\n",
    "    print(str(quantity)+\" \"+fruit+\"s\"+ \" costs \"+\"$\"+str(price*quantity))"
   ],
   "outputs": [
    {
     "output_type": "stream",
     "name": "stdout",
     "text": [
      "1 avocado cost $18912.392\n"
     ]
    }
>>>>>>> 0c15242accca009adc793de993ed878c78c66c5a
   ],
   "metadata": {}
  },
  {
   "cell_type": "markdown",
   "source": [
    "## Functions\n",
    "\n",
    "- Create your function in `src/lab1/functions.py` files\n",
    "- Import them using `from lab1.functions import MYFUNCTION`"
   ],
   "metadata": {}
  },
  {
   "cell_type": "code",
   "execution_count": 12,
   "source": [
    "from lab1.tmp import benco2000\r\n",
    "benco2000"
   ],
   "outputs": [
    {
     "output_type": "execute_result",
     "data": {
      "text/plain": [
       "'benco2000'"
      ]
     },
     "metadata": {},
     "execution_count": 12
    }
   ],
   "metadata": {}
  },
  {
   "cell_type": "markdown",
   "source": [
    "Define the function `is_unique(x)` which takes a list of integers `x` as input and returns `True` if the there is no duplicate items otherwise return `False`."
   ],
   "metadata": {}
  },
  {
   "cell_type": "code",
<<<<<<< HEAD
   "execution_count": 13,
   "source": [
    "from lab1.tmp import is_unique\r\n"
   ],
   "outputs": [],
=======
   "execution_count": 4,
   "source": [
    "from lab1.functions import is_unique\n",
    "\n",
    "\n",
    "is_unique([1,2,3,4]) , is_unique([1,1,2,3,4])\n",
    "\n",
    "\n"
   ],
   "outputs": [
    {
     "output_type": "execute_result",
     "data": {
      "text/plain": [
       "(True, False)"
      ]
     },
     "metadata": {},
     "execution_count": 4
    }
   ],
>>>>>>> 0c15242accca009adc793de993ed878c78c66c5a
   "metadata": {}
  },
  {
   "cell_type": "markdown",
   "source": [
    "Define a function `triangle_shape(height)`, that returns \r\n",
    "- `\"\"` if `height=0`, \r\n",
    "- otherwise it returns a string that forms a triangle with height prescribed by `height`.\r\n",
    "\r\n",
    "**Examples**\r\n",
    "\r\n",
    "height=1\r\n",
    "```\r\n",
    "x\r\n",
    "```\r\n",
    "\r\n",
    "height=2\r\n",
    "```\r\n",
    " x \r\n",
    "xxx\r\n",
    "```\r\n",
    "\r\n",
    "height=3\r\n",
    "```\r\n",
    "  x  \r\n",
    " xxx \r\n",
    "xxxxx\r\n",
    "```\r\n",
    "\r\n",
    "height=4\r\n",
    "```\r\n",
    "   x   \r\n",
    "  xxx  \r\n",
    " xxxxx \r\n",
    "xxxxxxx\r\n",
    "```\r\n",
    "\r\n",
    "height=5\r\n",
    "```\r\n",
    "    x    \r\n",
    "   xxx   \r\n",
    "  xxxxx  \r\n",
    " xxxxxxx \r\n",
    "xxxxxxxxx\r\n",
    "```\r\n",
    "\r\n",
    "height=6\r\n",
    "```\r\n",
    "     x     \r\n",
    "    xxx    \r\n",
    "   xxxxx   \r\n",
    "  xxxxxxx  \r\n",
    " xxxxxxxxx \r\n",
    "xxxxxxxxxxx\r\n",
    "```"
   ],
   "metadata": {}
  },
  {
   "cell_type": "code",
<<<<<<< HEAD
   "execution_count": 1,
   "source": [
    "from lab1.tmp1 import triangle_shape"
=======
   "execution_count": 2,
   "source": [
    "from lab1.functions import triangle_shape\n",
    "\n",
    "triangle_shape(4)"
>>>>>>> 0c15242accca009adc793de993ed878c78c66c5a
   ],
   "outputs": [
    {
     "output_type": "stream",
     "name": "stdout",
     "text": [
<<<<<<< HEAD
      "     x     \n",
      "    xxx    \n",
      "   xxxxx   \n",
      "  xxxxxxx  \n",
      " xxxxxxxxx \n",
=======
      "    x    \n",
      "\n",
      "   xxx     \n",
      "\n",
      "  xxxxx      \n",
      "\n",
      " xxxxxxx       \n",
>>>>>>> 0c15242accca009adc793de993ed878c78c66c5a
      "\n"
     ]
    }
   ],
   "metadata": {}
<<<<<<< HEAD
  },
  {
   "cell_type": "code",
   "execution_count": 3,
   "source": [
    "triangle_shape(4)"
   ],
   "outputs": [
    {
     "output_type": "execute_result",
     "data": {
      "text/plain": [
       "'    x    \\n   xxx   \\n  xxxxx  \\n xxxxxxx \\n'"
      ]
     },
     "metadata": {},
     "execution_count": 3
    }
   ],
   "metadata": {}
=======
>>>>>>> 0c15242accca009adc793de993ed878c78c66c5a
  }
 ],
 "metadata": {
  "interpreter": {
   "hash": "21b24bed1a7ec93f276d881e6a011a2b8e69b13d5056febcb6170b84daeb5cde"
  },
  "kernelspec": {
   "name": "python3",
   "display_name": "Python 3.8.11 64-bit ('sdia-python': conda)"
  },
  "language_info": {
   "codemirror_mode": {
    "name": "ipython",
    "version": 3
   },
   "file_extension": ".py",
   "mimetype": "text/x-python",
   "name": "python",
   "nbconvert_exporter": "python",
<<<<<<< HEAD
   "pygments_lexer": "ipython3",
   "version": "3.8.11"
=======
   "file_extension": ".py"
  },
  "kernelspec": {
   "name": "python3",
   "display_name": "Python 3.8.11 64-bit ('sdia-python': conda)"
  },
  "interpreter": {
   "hash": "f6393793d105c9501c054149556491342f57107460b9941c6625f98ef8f69ab0"
>>>>>>> 0c15242accca009adc793de993ed878c78c66c5a
  }
 },
 "nbformat": 4,
 "nbformat_minor": 2
}